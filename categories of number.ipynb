{
 "cells": [
  {
   "cell_type": "markdown",
   "metadata": {},
   "source": [
    "# wap to print composite number between 1 to n."
   ]
  },
  {
   "cell_type": "code",
   "execution_count": null,
   "metadata": {},
   "outputs": [],
   "source": [
    "n=int(input())\n",
    "for x in range(1,n+1):\n",
    "    c=0\n",
    "    for y in range(2,x):\n",
    "        if x%y==0:\n",
    "            c=c+1\n",
    "    if c>=1:\n",
    "        print(x)"
   ]
  },
  {
   "cell_type": "markdown",
   "metadata": {},
   "source": [
    "# wap to print factorial of a number enter by user."
   ]
  },
  {
   "cell_type": "code",
   "execution_count": null,
   "metadata": {},
   "outputs": [],
   "source": [
    "n=int(input())\n",
    "f=1\n",
    "for x in range(1,n+1):\n",
    "    f=f*x\n",
    "print(f)"
   ]
  },
  {
   "cell_type": "markdown",
   "metadata": {},
   "source": [
    "# wap to check number is palindrome or not"
   ]
  },
  {
   "cell_type": "code",
   "execution_count": null,
   "metadata": {},
   "outputs": [],
   "source": [
    "n=int(input())\n",
    "p=n\n",
    "r=0\n",
    "while n!=0:\n",
    "    d=n%10\n",
    "    r=r*10+d\n",
    "    n=n//10   # do remember about divide\n",
    "if r==p:\n",
    "    print(\"palindrome number\")\n",
    "else:\n",
    "    print(\"not palindrome number\")\n",
    "    "
   ]
  },
  {
   "cell_type": "markdown",
   "metadata": {},
   "source": [
    "# wap to check whether number is strong number or not."
   ]
  },
  {
   "cell_type": "code",
   "execution_count": null,
   "metadata": {},
   "outputs": [],
   "source": [
    "n=int(input())\n",
    "p=n\n",
    "c=0\n",
    "while n!=0:\n",
    "    d=n%10\n",
    "    n=n//10\n",
    "    f=1\n",
    "    for x in range(1,d+1):\n",
    "        f=f*x\n",
    "    c=c+f\n",
    "if c==p:\n",
    "    print(\"strong number\")\n",
    "else:\n",
    "    print(\"not strong number\")"
   ]
  },
  {
   "cell_type": "markdown",
   "metadata": {},
   "source": [
    "# wap to check whether number is armstrong or not."
   ]
  },
  {
   "cell_type": "code",
   "execution_count": null,
   "metadata": {},
   "outputs": [],
   "source": [
    "n=int(input())\n",
    "p=n\n",
    "c=0\n",
    "while n!=0:\n",
    "    d=n%10\n",
    "    n=n//10\n",
    "    c=c+d**3\n",
    "if p==c:\n",
    "    print(\"armstrong number\")\n",
    "else:\n",
    "    print(\"not armstrong number\")"
   ]
  },
  {
   "cell_type": "markdown",
   "metadata": {},
   "source": [
    "# first n prime numbers"
   ]
  },
  {
   "cell_type": "code",
   "execution_count": null,
   "metadata": {},
   "outputs": [],
   "source": [
    "n=int(input())\n",
    "for x in range(n):\n",
    "    c=0\n",
    "    for y in range(1,x+1):\n",
    "        if x%y==0:\n",
    "            c=c+1\n",
    "    if c==2:\n",
    "        print(x)"
   ]
  }
 ],
 "metadata": {
  "kernelspec": {
   "display_name": "Python 3",
   "language": "python",
   "name": "python3"
  },
  "language_info": {
   "codemirror_mode": {
    "name": "ipython",
    "version": 3
   },
   "file_extension": ".py",
   "mimetype": "text/x-python",
   "name": "python",
   "nbconvert_exporter": "python",
   "pygments_lexer": "ipython3",
   "version": "3.7.3"
  }
 },
 "nbformat": 4,
 "nbformat_minor": 2
}
